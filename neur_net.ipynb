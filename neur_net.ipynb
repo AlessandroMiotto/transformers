{
 "cells": [
  {
   "cell_type": "code",
   "execution_count": null,
   "id": "09bf0ca1",
   "metadata": {},
   "outputs": [
    {
     "data": {
      "text/plain": [
       "GPT2LMHeadModel(\n",
       "  (transformer): GPT2Model(\n",
       "    (wte): Embedding(50257, 768)\n",
       "    (wpe): Embedding(1024, 768)\n",
       "    (drop): Dropout(p=0.1, inplace=False)\n",
       "    (h): ModuleList(\n",
       "      (0-11): 12 x GPT2Block(\n",
       "        (ln_1): LayerNorm((768,), eps=1e-05, elementwise_affine=True)\n",
       "        (attn): GPT2Attention(\n",
       "          (c_attn): Conv1D(nf=2304, nx=768)\n",
       "          (c_proj): Conv1D(nf=768, nx=768)\n",
       "          (attn_dropout): Dropout(p=0.1, inplace=False)\n",
       "          (resid_dropout): Dropout(p=0.1, inplace=False)\n",
       "        )\n",
       "        (ln_2): LayerNorm((768,), eps=1e-05, elementwise_affine=True)\n",
       "        (mlp): GPT2MLP(\n",
       "          (c_fc): Conv1D(nf=3072, nx=768)\n",
       "          (c_proj): Conv1D(nf=768, nx=3072)\n",
       "          (act): NewGELUActivation()\n",
       "          (dropout): Dropout(p=0.1, inplace=False)\n",
       "        )\n",
       "      )\n",
       "    )\n",
       "    (ln_f): LayerNorm((768,), eps=1e-05, elementwise_affine=True)\n",
       "  )\n",
       "  (lm_head): Linear(in_features=768, out_features=50257, bias=False)\n",
       ")"
      ]
     },
     "execution_count": 6,
     "metadata": {},
     "output_type": "execute_result"
    }
   ],
   "source": [
    "from transformers import GPT2Tokenizer, GPT2LMHeadModel, GPT2Model\n",
    "import torch\n",
    "import torch.nn.functional as F\n",
    "import torch.nn as nn\n",
    "\n",
    "# Upload tokenizer and model\n",
    "tokenizer = GPT2Tokenizer.from_pretrained(\"gpt2\")\n",
    "model = GPT2LMHeadModel.from_pretrained(\"gpt2\")\n",
    "model.eval()\n"
   ]
  },
  {
   "cell_type": "code",
   "execution_count": 7,
   "id": "6c611cdd",
   "metadata": {},
   "outputs": [],
   "source": [
    "from sklearn.metrics.pairwise import cosine_similarity\n",
    "import seaborn as sns\n",
    "import matplotlib.pyplot as plt\n",
    "import numpy as np\n"
   ]
  },
  {
   "cell_type": "code",
   "execution_count": 8,
   "id": "b0ec7dc1",
   "metadata": {},
   "outputs": [
    {
     "name": "stdout",
     "output_type": "stream",
     "text": [
      "GPT2MLP(\n",
      "  (c_fc): Conv1D(nf=3072, nx=768)\n",
      "  (c_proj): Conv1D(nf=768, nx=3072)\n",
      "  (act): NewGELUActivation()\n",
      "  (dropout): Dropout(p=0.1, inplace=False)\n",
      ")\n"
     ]
    }
   ],
   "source": [
    "\n",
    "# Load pre-trained GPT-2 (small version)\n",
    "model = GPT2Model.from_pretrained(\"gpt2\")\n",
    "\n",
    "# Choose a layer index (e.g., 0 for the first transformer block)\n",
    "layer_idx = 0\n",
    "\n",
    "# Extract the FFNN (MLP) from the transformer block\n",
    "ffnn = model.h[layer_idx].mlp\n",
    "\n",
    "# Print the structure\n",
    "print(ffnn)\n",
    "\n"
   ]
  },
  {
   "cell_type": "code",
   "execution_count": 10,
   "id": "222d4f4e",
   "metadata": {},
   "outputs": [],
   "source": [
    "# Extract weights and biases from the Conv1D layers\n",
    "def convert_conv1d_to_linear(conv1d):\n",
    "    # Conv1D in GPT-2 uses weight of shape (out_features, in_features)\n",
    "    weight = conv1d.weight.T  # Shape: [in_features, out_features]\n",
    "    bias = conv1d.bias\n",
    "    return nn.Linear(weight.shape[0], weight.shape[1], bias=True).to(weight.device).load_state_dict({\n",
    "        'weight': weight.T,\n",
    "        'bias': bias\n",
    "    }, strict=True)\n",
    "\n",
    "# Extract components\n",
    "fc1 = model.h[layer_idx].mlp.c_fc\n",
    "proj = model.h[layer_idx].mlp.c_proj\n",
    "act = model.h[layer_idx].mlp.act  # NewGELUActivation\n",
    "\n",
    "# Recreate the FFNN as a PyTorch module\n",
    "class GPT2FFNN(nn.Module):\n",
    "    def __init__(self, fc1, proj, act):\n",
    "        super().__init__()\n",
    "        self.fc1 = nn.Linear(fc1.weight.shape[1], fc1.weight.shape[0])\n",
    "        self.proj = nn.Linear(proj.weight.shape[1], proj.weight.shape[0])\n",
    "        self.act = act  # This is already a module\n",
    "\n",
    "        # Load weights\n",
    "        self.fc1.weight.data = fc1.weight.T.clone()\n",
    "        self.fc1.bias.data = fc1.bias.clone()\n",
    "        self.proj.weight.data = proj.weight.T.clone()\n",
    "        self.proj.bias.data = proj.bias.clone()\n",
    "\n",
    "    def forward(self, x):\n",
    "        return self.proj(self.act(self.fc1(x)))\n",
    "\n",
    "# Instantiate\n",
    "ffnn_reconstructed = GPT2FFNN(fc1, proj, act)\n",
    "\n"
   ]
  },
  {
   "cell_type": "markdown",
   "id": "b2e7b232",
   "metadata": {},
   "source": [
    "Values visualization and normalization"
   ]
  },
  {
   "cell_type": "code",
   "execution_count": null,
   "id": "5e3ffe6f",
   "metadata": {},
   "outputs": [
    {
     "name": "stdout",
     "output_type": "stream",
     "text": [
      "torch.Size([1, 768]) torch.Size([1, 768])\n",
      "tensor([0., 0., 0.])\n",
      "tensor([-2.8303, -2.4265,  0.0176], grad_fn=<SliceBackward0>)\n",
      "tensor(64.) tensor(37.3757, grad_fn=<AddBackward0>) \n",
      "\n",
      "0 tensor(64.) tensor(1.8560, grad_fn=<AddBackward0>)\n",
      "1 tensor(64.) tensor(50.0736, grad_fn=<AddBackward0>)\n",
      "2 tensor(64.) tensor(39.2192, grad_fn=<AddBackward0>)\n",
      "3 tensor(64.) tensor(19.9170, grad_fn=<AddBackward0>)\n",
      "4 tensor(64.) tensor(39.7488, grad_fn=<AddBackward0>)\n",
      "5 tensor(64.) tensor(-19.2324, grad_fn=<AddBackward0>)\n",
      "6 tensor(64.) tensor(-69.2670, grad_fn=<AddBackward0>)\n",
      "7 tensor(64.) tensor(38.5823, grad_fn=<AddBackward0>)\n",
      "8 tensor(64.) tensor(27.8565, grad_fn=<AddBackward0>)\n",
      "9 tensor(64.) tensor(31.7172, grad_fn=<AddBackward0>)\n",
      "10 tensor(64.) tensor(-50.2816, grad_fn=<AddBackward0>)\n",
      "11 tensor(64.) tensor(37.3757, grad_fn=<AddBackward0>)\n",
      "\n",
      " tensor(768.) tensor(147.5653, grad_fn=<AddBackward0>)\n"
     ]
    }
   ],
   "source": [
    "#x = torch.randn(1, 768)  # corresponds to [batch_size, hidden_size]\n",
    "\n",
    "# Create a vector of zeros\n",
    "x = torch.zeros(768)\n",
    "\n",
    "# Set elements 64 to 127 to 1 (second head block)\n",
    "k=11\n",
    "x[k*64:k*64+64] = 1.0\n",
    "\n",
    "# Add batch dimension: [1, 768]\n",
    "x = x.unsqueeze(0)\n",
    "\n",
    "# Pass through FFNN\n",
    "output = ffnn_reconstructed(x)\n",
    "\n",
    "print(x.shape, output.shape)  # Should be [1, 768]\n",
    "print(x[0][:3])\n",
    "print(output[0][:3])\n",
    "#print(output[0])\n",
    "print(sum(x[0]), sum(output[0]), \"\\n\")\n",
    "\n",
    "sx = []\n",
    "so = []\n",
    "    \n",
    "for k in range(12):\n",
    "    x = torch.zeros(768)\n",
    "    x[k*64:k*64+64] = 1.0\n",
    "    x = x.unsqueeze(0)\n",
    "    output = ffnn_reconstructed(x)\n",
    "    print(k, sum(x[0]), sum(output[0]))\n",
    "    sx.append(sum(x[0]))\n",
    "    so.append(sum(output[0]))\n",
    "\n",
    "print(\"\\n\", sum(sx), sum(so))\n"
   ]
  },
  {
   "cell_type": "markdown",
   "id": "04f8dc75",
   "metadata": {},
   "source": [
    "Colour Visualization"
   ]
  },
  {
   "cell_type": "code",
   "execution_count": null,
   "id": "f88cb9ef",
   "metadata": {},
   "outputs": [
    {
     "data": {
      "image/png": "[encoded data removed]",
      "text/plain": [
       "<Figure size 1200x200 with 2 Axes>"
      ]
     },
     "metadata": {},
     "output_type": "display_data"
    }
   ],
   "source": [
    "# Create your input vector\n",
    "x = torch.zeros(768)\n",
    "x[64:128] = 1.0\n",
    "x = x.unsqueeze(0)\n",
    "\n",
    "# Get output from FFNN\n",
    "with torch.no_grad():\n",
    "    output = ffnn_reconstructed(x)\n",
    "\n",
    "# Remove batch dimension\n",
    "x_np = x.squeeze(0).numpy()\n",
    "out_np = output.squeeze(0).numpy()\n",
    "\n",
    "# Plotting\n",
    "fig, ax = plt.subplots(2, 1, figsize=(12, 2), sharex=True)\n",
    "\n",
    "# Input heatmap\n",
    "ax[0].imshow(x_np[np.newaxis, :], cmap='viridis', aspect='auto')\n",
    "ax[0].set_title(\"Input Vector (768 dims)\")\n",
    "ax[0].set_ylabel(\"Input\")\n",
    "\n",
    "# Output heatmap\n",
    "ax[1].imshow(out_np[np.newaxis, :], cmap='viridis', aspect='auto')\n",
    "ax[1].set_title(\"Output Vector After FFNN\")\n",
    "ax[1].set_ylabel(\"Output\")\n",
    "ax[1].set_xlabel(\"Dimension index\")\n",
    "plt.tight_layout()\n",
    "plt.show()\n"
   ]
  },
  {
   "cell_type": "code",
   "execution_count": null,
   "id": "822e1f8e",
   "metadata": {},
   "outputs": [],
   "source": []
  }
 ],
 "metadata": {
  "kernelspec": {
   "display_name": "Python 3",
   "language": "python",
   "name": "python3"
  },
  "language_info": {
   "codemirror_mode": {
    "name": "ipython",
    "version": 3
   },
   "file_extension": ".py",
   "mimetype": "text/x-python",
   "name": "python",
   "nbconvert_exporter": "python",
   "pygments_lexer": "ipython3",
   "version": "3.10.12"
  }
 },
 "nbformat": 4,
 "nbformat_minor": 5
}
